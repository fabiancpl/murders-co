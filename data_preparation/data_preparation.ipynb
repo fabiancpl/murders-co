{
 "cells": [
  {
   "cell_type": "code",
   "execution_count": 1,
   "metadata": {},
   "outputs": [],
   "source": [
    "import numpy as np\n",
    "import pandas as pd\n",
    "from datetime import datetime\n",
    "\n",
    "import matplotlib.pyplot as plt\n",
    "%matplotlib inline"
   ]
  },
  {
   "cell_type": "code",
   "execution_count": 2,
   "metadata": {},
   "outputs": [],
   "source": [
    "pd.options.display.max_rows = 2000"
   ]
  },
  {
   "cell_type": "markdown",
   "metadata": {},
   "source": [
    "# Data loading and cleaning"
   ]
  },
  {
   "cell_type": "code",
   "execution_count": 3,
   "metadata": {},
   "outputs": [],
   "source": [
    "murders_2010_df = pd.read_csv( '../data/Delito_Homicidios_2010.csv' )\n",
    "murders_2011_df = pd.read_csv( '../data/Delito_Homicidios_2011.csv' )\n",
    "murders_2012_df = pd.read_csv( '../data/Delito_Homicidios_2012.csv' )\n",
    "murders_2013_df = pd.read_csv( '../data/Delito_Homicidios_2013.csv' )\n",
    "murders_2014_df = pd.read_csv( '../data/Delito_Homicidios_2014.csv' )\n",
    "murders_2015_df = pd.read_csv( '../data/Delito_Homicidios_2015.csv' )\n",
    "murders_2016_df = pd.read_csv( '../data/Delito_Homicidios_2016.csv' )\n",
    "murders_2017_df = pd.read_csv( '../data/Delito_Homicidios_2017.csv' )"
   ]
  },
  {
   "cell_type": "code",
   "execution_count": 4,
   "metadata": {},
   "outputs": [],
   "source": [
    "del murders_2010_df[ 'MUNICIPIO' ]\n",
    "del murders_2010_df[ 'BARRIO' ]\n",
    "del murders_2010_df[ 'ZONA' ]\n",
    "del murders_2010_df[ 'MOVIL VICTIMA' ]\n",
    "del murders_2010_df[ 'MOVIL AGRESOR' ]\n",
    "del murders_2010_df[ 'ESTADO CIVIL' ]\n",
    "del murders_2010_df[ 'CLASE EMPLEADO' ]\n",
    "del murders_2010_df[ 'PROFESIONES' ]\n",
    "del murders_2010_df[ 'ESCOLARIDAD' ]\n",
    "del murders_2010_df[ 'PAIS NACE' ]\n",
    "del murders_2010_df[ 'CODIGO DANE' ]\n",
    "del murders_2010_df[ '2010' ]\n",
    "\n",
    "del murders_2011_df[ 'MUNICIPIO' ]\n",
    "del murders_2011_df[ 'BARRIO' ]\n",
    "del murders_2011_df[ 'ZONA' ]\n",
    "del murders_2011_df[ 'MOVIL VICTIMA' ]\n",
    "del murders_2011_df[ 'MOVIL AGRESOR' ]\n",
    "del murders_2011_df[ 'ESTADO CIVIL' ]\n",
    "del murders_2011_df[ 'CLASE EMPLEADO' ]\n",
    "del murders_2011_df[ 'PROFESIONES' ]\n",
    "del murders_2011_df[ 'ESCOLARIDAD' ]\n",
    "del murders_2011_df[ 'PAIS NACE' ]\n",
    "del murders_2011_df[ 'CODIGO DANE' ]\n",
    "del murders_2011_df[ '2011' ]\n",
    "\n",
    "del murders_2012_df[ 'MUNICIPIO' ]\n",
    "del murders_2012_df[ 'BARRIO' ]\n",
    "del murders_2012_df[ 'ZONA' ]\n",
    "del murders_2012_df[ 'MOVIL VICTIMA' ]\n",
    "del murders_2012_df[ 'MOVIL AGRESOR' ]\n",
    "del murders_2012_df[ 'ESTADO CIVIL' ]\n",
    "del murders_2012_df[ 'CLASE EMPLEADO' ]\n",
    "del murders_2012_df[ 'PROFESIONES' ]\n",
    "del murders_2012_df[ 'ESCOLARIDAD' ]\n",
    "del murders_2012_df[ 'PAIS NACE' ]\n",
    "del murders_2012_df[ 'CODIGO DANE' ]\n",
    "del murders_2012_df[ '2012' ]\n",
    "\n",
    "del murders_2013_df[ 'MUNICIPIO' ]\n",
    "del murders_2013_df[ 'BARRIO' ]\n",
    "del murders_2013_df[ 'ZONA' ]\n",
    "del murders_2013_df[ 'MOVIL VICTIMA' ]\n",
    "del murders_2013_df[ 'MOVIL AGRESOR' ]\n",
    "del murders_2013_df[ 'ESTADO CIVIL' ]\n",
    "del murders_2013_df[ 'CLASE EMPLEADO' ]\n",
    "del murders_2013_df[ 'PROFESIONES' ]\n",
    "del murders_2013_df[ 'ESCOLARIDAD' ]\n",
    "del murders_2013_df[ 'PAIS NACE' ]\n",
    "del murders_2013_df[ 'CODIGO DANE' ]\n",
    "del murders_2013_df[ '2013' ]\n",
    "\n",
    "del murders_2014_df[ 'MUNICIPIO' ]\n",
    "del murders_2014_df[ 'BARRIOS' ]\n",
    "del murders_2014_df[ 'ZONA' ]\n",
    "del murders_2014_df[ 'MOVIL VICTIMA' ]\n",
    "del murders_2014_df[ 'MOVIL AGRESOR' ]\n",
    "del murders_2014_df[ 'ESTADO CIVIL' ]\n",
    "del murders_2014_df[ 'CLASE EMPLEADO' ]\n",
    "del murders_2014_df[ 'PROFESIONES' ]\n",
    "del murders_2014_df[ 'ESCOLARIDAD' ]\n",
    "del murders_2014_df[ 'PAIS NACE' ]\n",
    "del murders_2014_df[ 'CODIGO DANE' ]\n",
    "del murders_2014_df[ '2014' ]\n",
    "\n",
    "del murders_2015_df[ 'MUNICIPIO' ]\n",
    "del murders_2015_df[ 'BARRIO' ]\n",
    "del murders_2015_df[ 'ZONA ' ]\n",
    "del murders_2015_df[ 'MOVIL VICTIMA ' ]\n",
    "del murders_2015_df[ 'MOVIL AGRESOR ' ]\n",
    "del murders_2015_df[ 'ESTADO CIVIL' ]\n",
    "del murders_2015_df[ 'CLASE EMPLEADO' ]\n",
    "del murders_2015_df[ 'PROFESION' ]\n",
    "del murders_2015_df[ 'ESCOLARIDAD' ]\n",
    "del murders_2015_df[ 'PAIS NACE' ]\n",
    "del murders_2015_df[ 'CODIGO DANE ' ]\n",
    "del murders_2015_df[ '2015' ]\n",
    "\n",
    "del murders_2016_df[ 'Municipio' ]\n",
    "del murders_2016_df[ 'Barrio' ]\n",
    "del murders_2016_df[ 'Zona' ]\n",
    "del murders_2016_df[ 'Móvil Agresor' ]\n",
    "del murders_2016_df[ 'Móvil Victima' ]\n",
    "del murders_2016_df[ 'Estado civil' ]\n",
    "del murders_2016_df[ 'Clase de empleado' ]\n",
    "del murders_2016_df[ 'Profesión' ]\n",
    "del murders_2016_df[ 'Escolaridad' ]\n",
    "del murders_2016_df[ 'País de nacimiento' ]\n",
    "del murders_2016_df[ 'Código DANE' ]\n",
    "del murders_2016_df[ 'Cantidad' ]\n",
    "\n",
    "del murders_2017_df[ 'Municipio' ]\n",
    "del murders_2017_df[ 'Barrio' ]\n",
    "del murders_2017_df[ 'Zona' ]\n",
    "del murders_2017_df[ 'Móvil Agresor' ]\n",
    "del murders_2017_df[ 'Móvil Victima' ]\n",
    "del murders_2017_df[ 'Estado civil' ]\n",
    "del murders_2017_df[ 'Clase de empleado' ]\n",
    "del murders_2017_df[ 'Profesión' ]\n",
    "del murders_2017_df[ 'Escolaridad' ]\n",
    "del murders_2017_df[ 'País de nacimiento' ]\n",
    "del murders_2017_df[ 'Código DANE' ]\n",
    "del murders_2017_df[ 'Cantidad' ]"
   ]
  },
  {
   "cell_type": "code",
   "execution_count": 5,
   "metadata": {},
   "outputs": [],
   "source": [
    "murders_2016_df.rename( columns = { 'Fecha' : 'FECHA', 'Departamento' : 'DEPARTAMENTO', 'Día' : 'DIA', 'Clase de sitio' : 'CLASE SITIO', 'Arma empleada' : 'ARMA EMPLEADA', 'Edad' : 'EDAD', 'Sexo' : 'GENERO' }, inplace = True )\n",
    "murders_2017_df.rename( columns = { 'Fecha' : 'FECHA', 'Departamento' : 'DEPARTAMENTO', 'Día' : 'DIA', 'Clase de sitio' : 'CLASE SITIO', 'Arma empleada' : 'ARMA EMPLEADA', 'Edad' : 'EDAD', 'Sexo' : 'GENERO' }, inplace = True )"
   ]
  },
  {
   "cell_type": "code",
   "execution_count": 6,
   "metadata": {},
   "outputs": [],
   "source": [
    "def parse_dates_multiple( x, formats ):\n",
    "    for fmt in formats:\n",
    "        try:\n",
    "            return datetime.strptime( x, fmt )\n",
    "        except ValueError:\n",
    "            pass\n",
    "    raise ValueError( 'no valid date format found for ' + x )\n",
    "\n",
    "# 2010\n",
    "murders_2010_df[ 'FECHA' ] = murders_2010_df[ 'FECHA' ].str[ :10 ] + ' ' +  murders_2010_df[ 'HORA' ]\n",
    "del murders_2010_df[ 'HORA' ]\n",
    "murders_2010_df[ 'FECHA' ] = murders_2010_df[ 'FECHA' ].apply( lambda x: datetime.strptime( x, '%d/%m/%Y %H:%M' ) )\n",
    "\n",
    "# 2011\n",
    "murders_2011_df[ 'FECHA' ] = murders_2011_df[ 'FECHA' ].str[ :10 ] + ' ' +  murders_2011_df[ 'HORA' ]\n",
    "del murders_2011_df[ 'HORA' ]\n",
    "murders_2011_df[ 'FECHA' ] = murders_2011_df[ 'FECHA' ].apply( lambda x: datetime.strptime( x, '%d/%m/%Y %H:%M' ) )\n",
    "\n",
    "# 2012\n",
    "murders_2012_df[ 'FECHA' ] = murders_2012_df[ 'FECHA' ].str[ :10 ] + ' ' +  murders_2012_df[ 'HORA' ]\n",
    "del murders_2012_df[ 'HORA' ]\n",
    "murders_2012_df[ 'FECHA' ] = murders_2012_df[ 'FECHA' ].apply( lambda x: datetime.strptime( x, '%d/%m/%Y %H:%M' ) )\n",
    "\n",
    "# 2013\n",
    "murders_2013_df[ 'FECHA' ] = murders_2013_df[ 'FECHA' ].str[ :10 ] + ' ' +  murders_2013_df[ 'HORA' ]\n",
    "del murders_2013_df[ 'HORA' ]\n",
    "murders_2013_df[ 'FECHA' ] = murders_2013_df[ 'FECHA' ].apply( lambda x: datetime.strptime( x, '%d/%m/%Y %H:%M' ) )\n",
    "\n",
    "# 2014\n",
    "murders_2014_df[ 'FECHA' ] = murders_2014_df[ 'FECHA' ].str[ :10 ] + ' ' +  murders_2014_df[ 'HORA' ]\n",
    "del murders_2014_df[ 'HORA' ]\n",
    "murders_2014_df[ 'FECHA' ] = murders_2014_df[ 'FECHA' ].apply( lambda x: datetime.strptime( x, '%d/%m/%Y %H:%M' ) )\n",
    "\n",
    "# 2015\n",
    "murders_2015_df[ 'FECHA' ] = murders_2015_df[ 'FECHA' ].str[ :10 ] + ' ' +  murders_2015_df[ 'HORA' ]\n",
    "del murders_2015_df[ 'HORA' ]\n",
    "murders_2015_df[ 'FECHA' ] = murders_2015_df[ 'FECHA' ].apply( lambda x: parse_dates_multiple( x, ( '%d/%m/%Y %H:%M', '%m/%d/%Y %H:%M' ) ) )\n",
    "\n",
    "# 2016\n",
    "murders_2016_df[ 'FECHA' ] = murders_2016_df[ 'FECHA' ].str[ :10 ] + ' ' +  murders_2016_df[ 'Hora' ].str[ 11: ]\n",
    "del murders_2016_df[ 'Hora' ]\n",
    "murders_2016_df[ 'FECHA' ] = murders_2016_df[ 'FECHA' ].apply( lambda x: parse_dates_multiple( x, ( '%d/%m/%Y %I:%M:%S %p', '%m/%d/%Y %I:%M:%S %p' ) ) )\n",
    "\n",
    "# 2017\n",
    "murders_2017_df[ 'FECHA' ] = murders_2017_df[ 'FECHA' ].str[ :10 ] + ' ' +  murders_2017_df[ 'Hora' ]\n",
    "del murders_2017_df[ 'Hora' ]\n",
    "murders_2017_df[ 'FECHA' ] = murders_2017_df[ 'FECHA' ].apply( lambda x: parse_dates_multiple( x, ( '%d/%m/%Y %H:%M:%S', '%m/%d/%Y %H:%M:%S', '%d/%m/%Y %-H:%M:%S', '%m/%d/%Y %-H:%M:%S' ) ) )"
   ]
  },
  {
   "cell_type": "markdown",
   "metadata": {},
   "source": [
    "# Concatenation"
   ]
  },
  {
   "cell_type": "code",
   "execution_count": 7,
   "metadata": {},
   "outputs": [],
   "source": [
    "murders_df = pd.concat( [ murders_2010_df,\n",
    "                        murders_2011_df,\n",
    "                        murders_2012_df,\n",
    "                        murders_2013_df,\n",
    "                        murders_2014_df,\n",
    "                        murders_2015_df,\n",
    "                        murders_2016_df,\n",
    "                        murders_2017_df ] )"
   ]
  },
  {
   "cell_type": "code",
   "execution_count": 8,
   "metadata": {},
   "outputs": [],
   "source": [
    "del murders_df[ 'CLASE SITIO' ]\n",
    "del murders_df[ 'DEPARTAMENTO' ]"
   ]
  },
  {
   "cell_type": "code",
   "execution_count": 9,
   "metadata": {},
   "outputs": [],
   "source": [
    "# Imputation of low frecuency wapons\n",
    "weapon_df = murders_df[ 'ARMA EMPLEADA' ].value_counts( dropna = False ).reset_index()\n",
    "low_frec_weapon = weapon_df.loc[ weapon_df[ 'ARMA EMPLEADA' ] < 20, 'index' ].tolist()\n",
    "murders_df.loc[ murders_df[ 'ARMA EMPLEADA' ].isin( low_frec_weapon ), 'ARMA EMPLEADA' ] = 'OTRA'"
   ]
  },
  {
   "cell_type": "code",
   "execution_count": 10,
   "metadata": {},
   "outputs": [
    {
     "data": {
      "text/plain": [
       "ARMA DE FUEGO                         84276\n",
       "ARMA BLANCA                           15695\n",
       "ARMA BLANCA / CORTOPUNZANTE            5672\n",
       "CONTUNDENTES                           3120\n",
       "CUERDA/SOGA/CADENA                      394\n",
       "ARTEFACTO EXPLOSIVO/CARGA DINAMITA      377\n",
       "MINA ANTIPERSONA                        313\n",
       "NO REPORTADO                            196\n",
       "PUNZANTES                               169\n",
       "BOLSA PLASTICA                          164\n",
       "CORTANTES                               147\n",
       "OTRA                                    140\n",
       "GRANADA DE MANO                         127\n",
       "GASOLINA                                 54\n",
       "CILINDRO BOMBA                           46\n",
       "SIN EMPLEO DE ARMAS                      42\n",
       "ALMOHADA                                 34\n",
       "VENENO                                   28\n",
       "CINTAS/CINTURON                          27\n",
       "CARRO BOMBA                              25\n",
       "Name: ARMA EMPLEADA, dtype: int64"
      ]
     },
     "execution_count": 10,
     "metadata": {},
     "output_type": "execute_result"
    }
   ],
   "source": [
    "murders_df[ 'ARMA EMPLEADA' ].value_counts( dropna = False )"
   ]
  },
  {
   "cell_type": "code",
   "execution_count": 11,
   "metadata": {},
   "outputs": [],
   "source": [
    "def transform_age( x ):\n",
    "    try:\n",
    "        age = int( x )\n",
    "        if age < 18:\n",
    "            return '<18'\n",
    "        elif age >= 18 and age < 30:\n",
    "            return '18-29'\n",
    "        elif age >= 30 and age < 40:\n",
    "            return '30-39'\n",
    "        elif age >= 40 and age <= 50:\n",
    "            return '40-50'\n",
    "        else:\n",
    "            return '>50'\n",
    "    except ValueError:\n",
    "        return 'NO REPORTADO'\n",
    "        \n",
    "    \n",
    "murders_df[ 'EDAD' ] = murders_df[ 'EDAD' ].apply( lambda x: transform_age( x ) )"
   ]
  },
  {
   "cell_type": "code",
   "execution_count": 12,
   "metadata": {},
   "outputs": [
    {
     "data": {
      "text/plain": [
       "18-29           48474\n",
       "30-39           28036\n",
       "40-50           15956\n",
       ">50             10592\n",
       "<18              7576\n",
       "NO REPORTADO      412\n",
       "Name: EDAD, dtype: int64"
      ]
     },
     "execution_count": 12,
     "metadata": {},
     "output_type": "execute_result"
    }
   ],
   "source": [
    "murders_df[ 'EDAD' ].value_counts( dropna = False )"
   ]
  },
  {
   "cell_type": "code",
   "execution_count": 13,
   "metadata": {},
   "outputs": [],
   "source": [
    "murders_df.sort_values( by = [ 'FECHA' ], inplace = True )"
   ]
  },
  {
   "cell_type": "code",
   "execution_count": 14,
   "metadata": {},
   "outputs": [],
   "source": [
    "murders_df[ 'FECHA' ] = murders_df[ 'FECHA' ].dt.date"
   ]
  },
  {
   "cell_type": "code",
   "execution_count": 15,
   "metadata": {},
   "outputs": [],
   "source": [
    "murders_df[ 'FECHA' ] = murders_df[ 'FECHA' ].apply( lambda dt: dt.replace( day = 1 ) )"
   ]
  },
  {
   "cell_type": "code",
   "execution_count": 16,
   "metadata": {},
   "outputs": [],
   "source": [
    "del murders_df[ 'ARMA EMPLEADA' ]"
   ]
  },
  {
   "cell_type": "code",
   "execution_count": 17,
   "metadata": {},
   "outputs": [
    {
     "data": {
      "text/html": [
       "<div>\n",
       "<style scoped>\n",
       "    .dataframe tbody tr th:only-of-type {\n",
       "        vertical-align: middle;\n",
       "    }\n",
       "\n",
       "    .dataframe tbody tr th {\n",
       "        vertical-align: top;\n",
       "    }\n",
       "\n",
       "    .dataframe thead th {\n",
       "        text-align: right;\n",
       "    }\n",
       "</style>\n",
       "<table border=\"1\" class=\"dataframe\">\n",
       "  <thead>\n",
       "    <tr style=\"text-align: right;\">\n",
       "      <th></th>\n",
       "      <th>FECHA</th>\n",
       "      <th>DIA</th>\n",
       "      <th>EDAD</th>\n",
       "      <th>GENERO</th>\n",
       "    </tr>\n",
       "  </thead>\n",
       "  <tbody>\n",
       "    <tr>\n",
       "      <th>68</th>\n",
       "      <td>2010-01-01</td>\n",
       "      <td>Viernes</td>\n",
       "      <td>30-39</td>\n",
       "      <td>MASCULINO</td>\n",
       "    </tr>\n",
       "    <tr>\n",
       "      <th>29</th>\n",
       "      <td>2010-01-01</td>\n",
       "      <td>Viernes</td>\n",
       "      <td>30-39</td>\n",
       "      <td>MASCULINO</td>\n",
       "    </tr>\n",
       "    <tr>\n",
       "      <th>28</th>\n",
       "      <td>2010-01-01</td>\n",
       "      <td>Viernes</td>\n",
       "      <td>18-29</td>\n",
       "      <td>MASCULINO</td>\n",
       "    </tr>\n",
       "    <tr>\n",
       "      <th>22</th>\n",
       "      <td>2010-01-01</td>\n",
       "      <td>Viernes</td>\n",
       "      <td>40-50</td>\n",
       "      <td>MASCULINO</td>\n",
       "    </tr>\n",
       "    <tr>\n",
       "      <th>24</th>\n",
       "      <td>2010-01-01</td>\n",
       "      <td>Viernes</td>\n",
       "      <td>&gt;50</td>\n",
       "      <td>MASCULINO</td>\n",
       "    </tr>\n",
       "  </tbody>\n",
       "</table>\n",
       "</div>"
      ],
      "text/plain": [
       "         FECHA      DIA   EDAD     GENERO\n",
       "68  2010-01-01  Viernes  30-39  MASCULINO\n",
       "29  2010-01-01  Viernes  30-39  MASCULINO\n",
       "28  2010-01-01  Viernes  18-29  MASCULINO\n",
       "22  2010-01-01  Viernes  40-50  MASCULINO\n",
       "24  2010-01-01  Viernes    >50  MASCULINO"
      ]
     },
     "execution_count": 17,
     "metadata": {},
     "output_type": "execute_result"
    }
   ],
   "source": [
    "murders_df.head()"
   ]
  },
  {
   "cell_type": "code",
   "execution_count": 18,
   "metadata": {},
   "outputs": [],
   "source": [
    "murders_by_weekday = murders_df.groupby( [ 'FECHA', 'DIA' ] ).agg( { 'EDAD' : 'count' } ).reset_index().set_index( [ 'FECHA', 'DIA' ] ).unstack( 1 ).xs( 'EDAD', axis = 1, drop_level = True).reset_index()\n",
    "murders_by_weekday = murders_by_weekday.fillna( 0 )"
   ]
  },
  {
   "cell_type": "code",
   "execution_count": 19,
   "metadata": {},
   "outputs": [
    {
     "data": {
      "text/plain": [
       "(96, 8)"
      ]
     },
     "execution_count": 19,
     "metadata": {},
     "output_type": "execute_result"
    }
   ],
   "source": [
    "murders_by_weekday.shape"
   ]
  },
  {
   "cell_type": "code",
   "execution_count": 20,
   "metadata": {},
   "outputs": [],
   "source": [
    "murders_by_age = murders_df.groupby( [ 'FECHA', 'EDAD' ] ).agg( { 'DIA' : 'count' } ).reset_index().set_index( [ 'FECHA', 'EDAD' ] ).unstack( 1 ).xs( 'DIA', axis = 1, drop_level = True).reset_index()\n",
    "murders_by_age = murders_by_age.fillna( 0 )"
   ]
  },
  {
   "cell_type": "code",
   "execution_count": 21,
   "metadata": {},
   "outputs": [
    {
     "data": {
      "text/plain": [
       "(96, 7)"
      ]
     },
     "execution_count": 21,
     "metadata": {},
     "output_type": "execute_result"
    }
   ],
   "source": [
    "murders_by_age.shape"
   ]
  },
  {
   "cell_type": "code",
   "execution_count": 22,
   "metadata": {},
   "outputs": [],
   "source": [
    "murders_by_genre = murders_df.groupby( [ 'FECHA', 'GENERO' ] ).agg( { 'DIA' : 'count' } ).reset_index().set_index( [ 'FECHA', 'GENERO' ] ).unstack( 1 ).xs( 'DIA', axis = 1, drop_level = True).reset_index()\n",
    "murders_by_genre = murders_by_genre.fillna( 0 )"
   ]
  },
  {
   "cell_type": "code",
   "execution_count": 23,
   "metadata": {},
   "outputs": [
    {
     "data": {
      "text/plain": [
       "(96, 4)"
      ]
     },
     "execution_count": 23,
     "metadata": {},
     "output_type": "execute_result"
    }
   ],
   "source": [
    "murders_by_genre.shape"
   ]
  },
  {
   "cell_type": "code",
   "execution_count": 24,
   "metadata": {},
   "outputs": [],
   "source": [
    "murders_by_all = murders_df.groupby( [ 'FECHA' ] ).agg( { 'DIA' : 'count' } ).reset_index().rename( columns = { 'DIA' : 'TOTAL' } )\n",
    "murders_by_all[ 'FECHA' ] = pd.to_datetime( murders_by_all[ 'FECHA' ] )"
   ]
  },
  {
   "cell_type": "code",
   "execution_count": 25,
   "metadata": {},
   "outputs": [
    {
     "data": {
      "text/plain": [
       "(96, 2)"
      ]
     },
     "execution_count": 25,
     "metadata": {},
     "output_type": "execute_result"
    }
   ],
   "source": [
    "murders_by_all.shape"
   ]
  },
  {
   "cell_type": "code",
   "execution_count": 26,
   "metadata": {},
   "outputs": [],
   "source": [
    "#grouped_murders_df = murders_by_weekday.merge( murders_by_age, how = 'inner', on = 'FECHA' )\n",
    "grouped_murders_df = murders_by_age.merge( murders_by_genre, how = 'inner', on = 'FECHA' )\n",
    "grouped_murders_df = grouped_murders_df.merge( murders_by_all, how = 'inner', on = 'FECHA' )"
   ]
  },
  {
   "cell_type": "code",
   "execution_count": 37,
   "metadata": {},
   "outputs": [
    {
     "data": {
      "text/html": [
       "<div>\n",
       "<style scoped>\n",
       "    .dataframe tbody tr th:only-of-type {\n",
       "        vertical-align: middle;\n",
       "    }\n",
       "\n",
       "    .dataframe tbody tr th {\n",
       "        vertical-align: top;\n",
       "    }\n",
       "\n",
       "    .dataframe thead th {\n",
       "        text-align: right;\n",
       "    }\n",
       "</style>\n",
       "<table border=\"1\" class=\"dataframe\">\n",
       "  <thead>\n",
       "    <tr style=\"text-align: right;\">\n",
       "      <th></th>\n",
       "      <th>FECHA</th>\n",
       "      <th>18-29</th>\n",
       "      <th>30-39</th>\n",
       "      <th>40-50</th>\n",
       "      <th>&lt;18</th>\n",
       "      <th>&gt;50</th>\n",
       "      <th>NO REPORTADO</th>\n",
       "      <th>FEMENINO</th>\n",
       "      <th>MASCULINO</th>\n",
       "      <th>NO REPORTA</th>\n",
       "      <th>TOTAL</th>\n",
       "    </tr>\n",
       "  </thead>\n",
       "  <tbody>\n",
       "    <tr>\n",
       "      <th>86</th>\n",
       "      <td>2017-03-01</td>\n",
       "      <td>404.0</td>\n",
       "      <td>212.0</td>\n",
       "      <td>148.0</td>\n",
       "      <td>57.0</td>\n",
       "      <td>90.0</td>\n",
       "      <td>0.0</td>\n",
       "      <td>78.0</td>\n",
       "      <td>833.0</td>\n",
       "      <td>0.0</td>\n",
       "      <td>911</td>\n",
       "    </tr>\n",
       "    <tr>\n",
       "      <th>87</th>\n",
       "      <td>2017-04-01</td>\n",
       "      <td>413.0</td>\n",
       "      <td>264.0</td>\n",
       "      <td>139.0</td>\n",
       "      <td>70.0</td>\n",
       "      <td>107.0</td>\n",
       "      <td>0.0</td>\n",
       "      <td>102.0</td>\n",
       "      <td>891.0</td>\n",
       "      <td>0.0</td>\n",
       "      <td>993</td>\n",
       "    </tr>\n",
       "    <tr>\n",
       "      <th>88</th>\n",
       "      <td>2017-05-01</td>\n",
       "      <td>460.0</td>\n",
       "      <td>246.0</td>\n",
       "      <td>135.0</td>\n",
       "      <td>63.0</td>\n",
       "      <td>134.0</td>\n",
       "      <td>0.0</td>\n",
       "      <td>106.0</td>\n",
       "      <td>932.0</td>\n",
       "      <td>0.0</td>\n",
       "      <td>1038</td>\n",
       "    </tr>\n",
       "    <tr>\n",
       "      <th>89</th>\n",
       "      <td>2017-06-01</td>\n",
       "      <td>383.0</td>\n",
       "      <td>224.0</td>\n",
       "      <td>133.0</td>\n",
       "      <td>68.0</td>\n",
       "      <td>89.0</td>\n",
       "      <td>0.0</td>\n",
       "      <td>86.0</td>\n",
       "      <td>811.0</td>\n",
       "      <td>0.0</td>\n",
       "      <td>897</td>\n",
       "    </tr>\n",
       "    <tr>\n",
       "      <th>90</th>\n",
       "      <td>2017-07-01</td>\n",
       "      <td>472.0</td>\n",
       "      <td>277.0</td>\n",
       "      <td>138.0</td>\n",
       "      <td>81.0</td>\n",
       "      <td>111.0</td>\n",
       "      <td>0.0</td>\n",
       "      <td>89.0</td>\n",
       "      <td>990.0</td>\n",
       "      <td>0.0</td>\n",
       "      <td>1079</td>\n",
       "    </tr>\n",
       "    <tr>\n",
       "      <th>91</th>\n",
       "      <td>2017-08-01</td>\n",
       "      <td>421.0</td>\n",
       "      <td>248.0</td>\n",
       "      <td>136.0</td>\n",
       "      <td>57.0</td>\n",
       "      <td>89.0</td>\n",
       "      <td>0.0</td>\n",
       "      <td>80.0</td>\n",
       "      <td>871.0</td>\n",
       "      <td>0.0</td>\n",
       "      <td>951</td>\n",
       "    </tr>\n",
       "    <tr>\n",
       "      <th>92</th>\n",
       "      <td>2017-09-01</td>\n",
       "      <td>377.0</td>\n",
       "      <td>228.0</td>\n",
       "      <td>139.0</td>\n",
       "      <td>53.0</td>\n",
       "      <td>117.0</td>\n",
       "      <td>0.0</td>\n",
       "      <td>66.0</td>\n",
       "      <td>848.0</td>\n",
       "      <td>0.0</td>\n",
       "      <td>914</td>\n",
       "    </tr>\n",
       "    <tr>\n",
       "      <th>93</th>\n",
       "      <td>2017-10-01</td>\n",
       "      <td>474.0</td>\n",
       "      <td>256.0</td>\n",
       "      <td>129.0</td>\n",
       "      <td>47.0</td>\n",
       "      <td>113.0</td>\n",
       "      <td>0.0</td>\n",
       "      <td>96.0</td>\n",
       "      <td>923.0</td>\n",
       "      <td>0.0</td>\n",
       "      <td>1019</td>\n",
       "    </tr>\n",
       "    <tr>\n",
       "      <th>94</th>\n",
       "      <td>2017-11-01</td>\n",
       "      <td>437.0</td>\n",
       "      <td>237.0</td>\n",
       "      <td>166.0</td>\n",
       "      <td>68.0</td>\n",
       "      <td>129.0</td>\n",
       "      <td>0.0</td>\n",
       "      <td>97.0</td>\n",
       "      <td>940.0</td>\n",
       "      <td>0.0</td>\n",
       "      <td>1037</td>\n",
       "    </tr>\n",
       "    <tr>\n",
       "      <th>95</th>\n",
       "      <td>2017-12-01</td>\n",
       "      <td>532.0</td>\n",
       "      <td>305.0</td>\n",
       "      <td>165.0</td>\n",
       "      <td>68.0</td>\n",
       "      <td>135.0</td>\n",
       "      <td>0.0</td>\n",
       "      <td>102.0</td>\n",
       "      <td>1103.0</td>\n",
       "      <td>0.0</td>\n",
       "      <td>1205</td>\n",
       "    </tr>\n",
       "  </tbody>\n",
       "</table>\n",
       "</div>"
      ],
      "text/plain": [
       "        FECHA  18-29  30-39  40-50   <18    >50  NO REPORTADO  FEMENINO  \\\n",
       "86 2017-03-01  404.0  212.0  148.0  57.0   90.0           0.0      78.0   \n",
       "87 2017-04-01  413.0  264.0  139.0  70.0  107.0           0.0     102.0   \n",
       "88 2017-05-01  460.0  246.0  135.0  63.0  134.0           0.0     106.0   \n",
       "89 2017-06-01  383.0  224.0  133.0  68.0   89.0           0.0      86.0   \n",
       "90 2017-07-01  472.0  277.0  138.0  81.0  111.0           0.0      89.0   \n",
       "91 2017-08-01  421.0  248.0  136.0  57.0   89.0           0.0      80.0   \n",
       "92 2017-09-01  377.0  228.0  139.0  53.0  117.0           0.0      66.0   \n",
       "93 2017-10-01  474.0  256.0  129.0  47.0  113.0           0.0      96.0   \n",
       "94 2017-11-01  437.0  237.0  166.0  68.0  129.0           0.0      97.0   \n",
       "95 2017-12-01  532.0  305.0  165.0  68.0  135.0           0.0     102.0   \n",
       "\n",
       "    MASCULINO  NO REPORTA  TOTAL  \n",
       "86      833.0         0.0    911  \n",
       "87      891.0         0.0    993  \n",
       "88      932.0         0.0   1038  \n",
       "89      811.0         0.0    897  \n",
       "90      990.0         0.0   1079  \n",
       "91      871.0         0.0    951  \n",
       "92      848.0         0.0    914  \n",
       "93      923.0         0.0   1019  \n",
       "94      940.0         0.0   1037  \n",
       "95     1103.0         0.0   1205  "
      ]
     },
     "execution_count": 37,
     "metadata": {},
     "output_type": "execute_result"
    }
   ],
   "source": [
    "grouped_murders_df.tail( 10 )"
   ]
  },
  {
   "cell_type": "code",
   "execution_count": 35,
   "metadata": {},
   "outputs": [
    {
     "data": {
      "text/html": [
       "<div>\n",
       "<style scoped>\n",
       "    .dataframe tbody tr th:only-of-type {\n",
       "        vertical-align: middle;\n",
       "    }\n",
       "\n",
       "    .dataframe tbody tr th {\n",
       "        vertical-align: top;\n",
       "    }\n",
       "\n",
       "    .dataframe thead th {\n",
       "        text-align: right;\n",
       "    }\n",
       "</style>\n",
       "<table border=\"1\" class=\"dataframe\">\n",
       "  <thead>\n",
       "    <tr style=\"text-align: right;\">\n",
       "      <th></th>\n",
       "      <th>18-29</th>\n",
       "      <th>30-39</th>\n",
       "      <th>40-50</th>\n",
       "      <th>&lt;18</th>\n",
       "      <th>&gt;50</th>\n",
       "      <th>NO REPORTADO</th>\n",
       "      <th>FEMENINO</th>\n",
       "      <th>MASCULINO</th>\n",
       "      <th>NO REPORTA</th>\n",
       "      <th>TOTAL</th>\n",
       "    </tr>\n",
       "  </thead>\n",
       "  <tbody>\n",
       "    <tr>\n",
       "      <th>18-29</th>\n",
       "      <td>1.000000</td>\n",
       "      <td>0.866767</td>\n",
       "      <td>0.790434</td>\n",
       "      <td>0.792339</td>\n",
       "      <td>0.500886</td>\n",
       "      <td>0.654513</td>\n",
       "      <td>0.750230</td>\n",
       "      <td>0.970465</td>\n",
       "      <td>0.180611</td>\n",
       "      <td>0.971713</td>\n",
       "    </tr>\n",
       "    <tr>\n",
       "      <th>30-39</th>\n",
       "      <td>0.866767</td>\n",
       "      <td>1.000000</td>\n",
       "      <td>0.785756</td>\n",
       "      <td>0.717601</td>\n",
       "      <td>0.470954</td>\n",
       "      <td>0.539497</td>\n",
       "      <td>0.711711</td>\n",
       "      <td>0.930261</td>\n",
       "      <td>0.202930</td>\n",
       "      <td>0.930826</td>\n",
       "    </tr>\n",
       "    <tr>\n",
       "      <th>40-50</th>\n",
       "      <td>0.790434</td>\n",
       "      <td>0.785756</td>\n",
       "      <td>1.000000</td>\n",
       "      <td>0.644173</td>\n",
       "      <td>0.388629</td>\n",
       "      <td>0.573023</td>\n",
       "      <td>0.656869</td>\n",
       "      <td>0.867179</td>\n",
       "      <td>0.252447</td>\n",
       "      <td>0.867264</td>\n",
       "    </tr>\n",
       "    <tr>\n",
       "      <th>&lt;18</th>\n",
       "      <td>0.792339</td>\n",
       "      <td>0.717601</td>\n",
       "      <td>0.644173</td>\n",
       "      <td>1.000000</td>\n",
       "      <td>0.425932</td>\n",
       "      <td>0.620083</td>\n",
       "      <td>0.659894</td>\n",
       "      <td>0.820010</td>\n",
       "      <td>0.276448</td>\n",
       "      <td>0.823990</td>\n",
       "    </tr>\n",
       "    <tr>\n",
       "      <th>&gt;50</th>\n",
       "      <td>0.500886</td>\n",
       "      <td>0.470954</td>\n",
       "      <td>0.388629</td>\n",
       "      <td>0.425932</td>\n",
       "      <td>1.000000</td>\n",
       "      <td>0.315906</td>\n",
       "      <td>0.533997</td>\n",
       "      <td>0.559699</td>\n",
       "      <td>0.145135</td>\n",
       "      <td>0.570433</td>\n",
       "    </tr>\n",
       "    <tr>\n",
       "      <th>NO REPORTADO</th>\n",
       "      <td>0.654513</td>\n",
       "      <td>0.539497</td>\n",
       "      <td>0.573023</td>\n",
       "      <td>0.620083</td>\n",
       "      <td>0.315906</td>\n",
       "      <td>1.000000</td>\n",
       "      <td>0.507212</td>\n",
       "      <td>0.663531</td>\n",
       "      <td>0.398040</td>\n",
       "      <td>0.664692</td>\n",
       "    </tr>\n",
       "    <tr>\n",
       "      <th>FEMENINO</th>\n",
       "      <td>0.750230</td>\n",
       "      <td>0.711711</td>\n",
       "      <td>0.656869</td>\n",
       "      <td>0.659894</td>\n",
       "      <td>0.533997</td>\n",
       "      <td>0.507212</td>\n",
       "      <td>1.000000</td>\n",
       "      <td>0.735953</td>\n",
       "      <td>0.217990</td>\n",
       "      <td>0.779213</td>\n",
       "    </tr>\n",
       "    <tr>\n",
       "      <th>MASCULINO</th>\n",
       "      <td>0.970465</td>\n",
       "      <td>0.930261</td>\n",
       "      <td>0.867179</td>\n",
       "      <td>0.820010</td>\n",
       "      <td>0.559699</td>\n",
       "      <td>0.663531</td>\n",
       "      <td>0.735953</td>\n",
       "      <td>1.000000</td>\n",
       "      <td>0.227253</td>\n",
       "      <td>0.997796</td>\n",
       "    </tr>\n",
       "    <tr>\n",
       "      <th>NO REPORTA</th>\n",
       "      <td>0.180611</td>\n",
       "      <td>0.202930</td>\n",
       "      <td>0.252447</td>\n",
       "      <td>0.276448</td>\n",
       "      <td>0.145135</td>\n",
       "      <td>0.398040</td>\n",
       "      <td>0.217990</td>\n",
       "      <td>0.227253</td>\n",
       "      <td>1.000000</td>\n",
       "      <td>0.234697</td>\n",
       "    </tr>\n",
       "    <tr>\n",
       "      <th>TOTAL</th>\n",
       "      <td>0.971713</td>\n",
       "      <td>0.930826</td>\n",
       "      <td>0.867264</td>\n",
       "      <td>0.823990</td>\n",
       "      <td>0.570433</td>\n",
       "      <td>0.664692</td>\n",
       "      <td>0.779213</td>\n",
       "      <td>0.997796</td>\n",
       "      <td>0.234697</td>\n",
       "      <td>1.000000</td>\n",
       "    </tr>\n",
       "  </tbody>\n",
       "</table>\n",
       "</div>"
      ],
      "text/plain": [
       "                 18-29     30-39     40-50       <18       >50  NO REPORTADO  \\\n",
       "18-29         1.000000  0.866767  0.790434  0.792339  0.500886      0.654513   \n",
       "30-39         0.866767  1.000000  0.785756  0.717601  0.470954      0.539497   \n",
       "40-50         0.790434  0.785756  1.000000  0.644173  0.388629      0.573023   \n",
       "<18           0.792339  0.717601  0.644173  1.000000  0.425932      0.620083   \n",
       ">50           0.500886  0.470954  0.388629  0.425932  1.000000      0.315906   \n",
       "NO REPORTADO  0.654513  0.539497  0.573023  0.620083  0.315906      1.000000   \n",
       "FEMENINO      0.750230  0.711711  0.656869  0.659894  0.533997      0.507212   \n",
       "MASCULINO     0.970465  0.930261  0.867179  0.820010  0.559699      0.663531   \n",
       "NO REPORTA    0.180611  0.202930  0.252447  0.276448  0.145135      0.398040   \n",
       "TOTAL         0.971713  0.930826  0.867264  0.823990  0.570433      0.664692   \n",
       "\n",
       "              FEMENINO  MASCULINO  NO REPORTA     TOTAL  \n",
       "18-29         0.750230   0.970465    0.180611  0.971713  \n",
       "30-39         0.711711   0.930261    0.202930  0.930826  \n",
       "40-50         0.656869   0.867179    0.252447  0.867264  \n",
       "<18           0.659894   0.820010    0.276448  0.823990  \n",
       ">50           0.533997   0.559699    0.145135  0.570433  \n",
       "NO REPORTADO  0.507212   0.663531    0.398040  0.664692  \n",
       "FEMENINO      1.000000   0.735953    0.217990  0.779213  \n",
       "MASCULINO     0.735953   1.000000    0.227253  0.997796  \n",
       "NO REPORTA    0.217990   0.227253    1.000000  0.234697  \n",
       "TOTAL         0.779213   0.997796    0.234697  1.000000  "
      ]
     },
     "execution_count": 35,
     "metadata": {},
     "output_type": "execute_result"
    }
   ],
   "source": [
    "grouped_murders_df.corr()"
   ]
  },
  {
   "cell_type": "code",
   "execution_count": 28,
   "metadata": {},
   "outputs": [],
   "source": [
    "grouped_murders_df.to_csv( '../data/murders_timeserie.csv', sep = ',', index = False )"
   ]
  },
  {
   "cell_type": "code",
   "execution_count": null,
   "metadata": {},
   "outputs": [],
   "source": []
  }
 ],
 "metadata": {
  "kernelspec": {
   "display_name": "Python 3",
   "language": "python",
   "name": "python3"
  },
  "language_info": {
   "codemirror_mode": {
    "name": "ipython",
    "version": 3
   },
   "file_extension": ".py",
   "mimetype": "text/x-python",
   "name": "python",
   "nbconvert_exporter": "python",
   "pygments_lexer": "ipython3",
   "version": "3.6.5"
  }
 },
 "nbformat": 4,
 "nbformat_minor": 2
}
